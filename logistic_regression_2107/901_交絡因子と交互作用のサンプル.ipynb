{
 "cells": [
  {
   "cell_type": "markdown",
   "id": "religious-geology",
   "metadata": {},
   "source": [
    "# 手で作ったサンプルデータを用いて、交絡因子と交互作用項をロジスティック回帰モデルで検討する"
   ]
  },
  {
   "cell_type": "code",
   "execution_count": 1,
   "id": "serial-amsterdam",
   "metadata": {},
   "outputs": [],
   "source": [
    "import pandas as pd\n",
    "import statsmodels.api as sm"
   ]
  },
  {
   "cell_type": "code",
   "execution_count": 2,
   "id": "wicked-greenhouse",
   "metadata": {},
   "outputs": [],
   "source": [
    "pd.set_option('display.max_rows', 250)\n",
    "pd.set_option('display.max_columns', 100)"
   ]
  },
  {
   "cell_type": "markdown",
   "id": "incident-insulation",
   "metadata": {},
   "source": [
    "# 交絡因子"
   ]
  },
  {
   "cell_type": "code",
   "execution_count": 3,
   "id": "changed-custody",
   "metadata": {},
   "outputs": [
    {
     "data": {
      "text/html": [
       "<div>\n",
       "<style scoped>\n",
       "    .dataframe tbody tr th:only-of-type {\n",
       "        vertical-align: middle;\n",
       "    }\n",
       "\n",
       "    .dataframe tbody tr th {\n",
       "        vertical-align: top;\n",
       "    }\n",
       "\n",
       "    .dataframe thead th {\n",
       "        text-align: right;\n",
       "    }\n",
       "</style>\n",
       "<table border=\"1\" class=\"dataframe\">\n",
       "  <thead>\n",
       "    <tr style=\"text-align: right;\">\n",
       "      <th></th>\n",
       "      <th>id</th>\n",
       "      <th>alcohol</th>\n",
       "      <th>smoking</th>\n",
       "      <th>cancer</th>\n",
       "      <th>intercept</th>\n",
       "    </tr>\n",
       "  </thead>\n",
       "  <tbody>\n",
       "    <tr>\n",
       "      <th>0</th>\n",
       "      <td>1</td>\n",
       "      <td>1</td>\n",
       "      <td>1</td>\n",
       "      <td>1</td>\n",
       "      <td>1</td>\n",
       "    </tr>\n",
       "    <tr>\n",
       "      <th>1</th>\n",
       "      <td>2</td>\n",
       "      <td>1</td>\n",
       "      <td>1</td>\n",
       "      <td>1</td>\n",
       "      <td>1</td>\n",
       "    </tr>\n",
       "    <tr>\n",
       "      <th>2</th>\n",
       "      <td>3</td>\n",
       "      <td>1</td>\n",
       "      <td>1</td>\n",
       "      <td>1</td>\n",
       "      <td>1</td>\n",
       "    </tr>\n",
       "    <tr>\n",
       "      <th>3</th>\n",
       "      <td>4</td>\n",
       "      <td>1</td>\n",
       "      <td>1</td>\n",
       "      <td>1</td>\n",
       "      <td>1</td>\n",
       "    </tr>\n",
       "    <tr>\n",
       "      <th>4</th>\n",
       "      <td>5</td>\n",
       "      <td>1</td>\n",
       "      <td>1</td>\n",
       "      <td>1</td>\n",
       "      <td>1</td>\n",
       "    </tr>\n",
       "  </tbody>\n",
       "</table>\n",
       "</div>"
      ],
      "text/plain": [
       "   id  alcohol  smoking  cancer  intercept\n",
       "0   1        1        1       1          1\n",
       "1   2        1        1       1          1\n",
       "2   3        1        1       1          1\n",
       "3   4        1        1       1          1\n",
       "4   5        1        1       1          1"
      ]
     },
     "execution_count": 3,
     "metadata": {},
     "output_type": "execute_result"
    }
   ],
   "source": [
    "#サンプルデータの読み込み\n",
    "df_conf = pd.read_csv('./data/sample_data_confounding.csv')\n",
    "\n",
    "#切片用のカラムを追加\n",
    "df_conf[\"intercept\"] = 1\n",
    "df_conf.head()"
   ]
  },
  {
   "cell_type": "code",
   "execution_count": 4,
   "id": "continental-version",
   "metadata": {},
   "outputs": [
    {
     "data": {
      "text/html": [
       "<div>\n",
       "<style scoped>\n",
       "    .dataframe tbody tr th:only-of-type {\n",
       "        vertical-align: middle;\n",
       "    }\n",
       "\n",
       "    .dataframe tbody tr th {\n",
       "        vertical-align: top;\n",
       "    }\n",
       "\n",
       "    .dataframe thead th {\n",
       "        text-align: right;\n",
       "    }\n",
       "</style>\n",
       "<table border=\"1\" class=\"dataframe\">\n",
       "  <thead>\n",
       "    <tr style=\"text-align: right;\">\n",
       "      <th>cancer</th>\n",
       "      <th>0</th>\n",
       "      <th>1</th>\n",
       "    </tr>\n",
       "    <tr>\n",
       "      <th>alcohol</th>\n",
       "      <th></th>\n",
       "      <th></th>\n",
       "    </tr>\n",
       "  </thead>\n",
       "  <tbody>\n",
       "    <tr>\n",
       "      <th>0</th>\n",
       "      <td>244</td>\n",
       "      <td>52</td>\n",
       "    </tr>\n",
       "    <tr>\n",
       "      <th>1</th>\n",
       "      <td>239</td>\n",
       "      <td>102</td>\n",
       "    </tr>\n",
       "  </tbody>\n",
       "</table>\n",
       "</div>"
      ],
      "text/plain": [
       "cancer     0    1\n",
       "alcohol          \n",
       "0        244   52\n",
       "1        239  102"
      ]
     },
     "execution_count": 4,
     "metadata": {},
     "output_type": "execute_result"
    }
   ],
   "source": [
    "pd.crosstab(df_conf['alcohol'], df_conf['cancer'])"
   ]
  },
  {
   "cell_type": "markdown",
   "id": "rocky-ensemble",
   "metadata": {},
   "source": [
    "## 短変数ロジスティック回帰（粗オッズ）"
   ]
  },
  {
   "cell_type": "code",
   "execution_count": 5,
   "id": "accepted-county",
   "metadata": {},
   "outputs": [],
   "source": [
    "X = df_conf[ ['intercept', 'alcohol'] ]\n",
    "y = df_conf['cancer']"
   ]
  },
  {
   "cell_type": "code",
   "execution_count": 6,
   "id": "ignored-paintball",
   "metadata": {},
   "outputs": [
    {
     "name": "stdout",
     "output_type": "stream",
     "text": [
      "                 Generalized Linear Model Regression Results                  \n",
      "==============================================================================\n",
      "Dep. Variable:                 cancer   No. Observations:                  637\n",
      "Model:                            GLM   Df Residuals:                      635\n",
      "Model Family:                Binomial   Df Model:                            1\n",
      "Link Function:                  logit   Scale:                          1.0000\n",
      "Method:                          IRLS   Log-Likelihood:                -345.62\n",
      "Date:                Fri, 09 Jul 2021   Deviance:                       691.25\n",
      "Time:                        06:28:51   Pearson chi2:                     637.\n",
      "No. Iterations:                     4                                         \n",
      "Covariance Type:            nonrobust                                         \n",
      "==============================================================================\n",
      "                 coef    std err          z      P>|z|      [0.025      0.975]\n",
      "------------------------------------------------------------------------------\n",
      "intercept     -1.5459      0.153    -10.121      0.000      -1.845      -1.247\n",
      "alcohol        0.6944      0.193      3.595      0.000       0.316       1.073\n",
      "==============================================================================\n"
     ]
    }
   ],
   "source": [
    "logit = sm.GLM(y, X, family=sm.families.Binomial())\n",
    "logit_result = logit.fit()\n",
    "print( logit_result.summary() )"
   ]
  },
  {
   "cell_type": "code",
   "execution_count": null,
   "id": "dense-logistics",
   "metadata": {},
   "outputs": [],
   "source": []
  },
  {
   "cell_type": "code",
   "execution_count": null,
   "id": "caring-newport",
   "metadata": {},
   "outputs": [],
   "source": []
  },
  {
   "cell_type": "code",
   "execution_count": null,
   "id": "active-mention",
   "metadata": {},
   "outputs": [],
   "source": []
  },
  {
   "cell_type": "code",
   "execution_count": null,
   "id": "painful-tutorial",
   "metadata": {},
   "outputs": [],
   "source": []
  },
  {
   "cell_type": "code",
   "execution_count": null,
   "id": "fatty-style",
   "metadata": {},
   "outputs": [],
   "source": [
    "X = df1[ ['intercept', 'alcohol', 'smoking'] ]\n",
    "y = df1['cancer']"
   ]
  },
  {
   "cell_type": "code",
   "execution_count": null,
   "id": "under-accent",
   "metadata": {},
   "outputs": [],
   "source": [
    "logit = sm.GLM(y, X, family=sm.families.Binomial())\n",
    "logit_result = logit.fit()"
   ]
  },
  {
   "cell_type": "code",
   "execution_count": null,
   "id": "functional-thought",
   "metadata": {},
   "outputs": [],
   "source": [
    "print( logit_result.summary() )"
   ]
  },
  {
   "cell_type": "code",
   "execution_count": null,
   "id": "finished-provision",
   "metadata": {},
   "outputs": [],
   "source": []
  },
  {
   "cell_type": "code",
   "execution_count": null,
   "id": "collaborative-trader",
   "metadata": {},
   "outputs": [],
   "source": [
    "df1['alcohol*smoking'] = df1['alcohol'] * df1['smoking']"
   ]
  },
  {
   "cell_type": "code",
   "execution_count": null,
   "id": "complimentary-baseline",
   "metadata": {},
   "outputs": [],
   "source": [
    "X = df1[ ['intercept', 'alcohol', 'smoking', 'alcohol*smoking'] ]\n",
    "y = df1['cancer']"
   ]
  },
  {
   "cell_type": "code",
   "execution_count": null,
   "id": "turkish-profile",
   "metadata": {},
   "outputs": [],
   "source": [
    "logit = sm.GLM(y, X, family=sm.families.Binomial())\n",
    "logit_result = logit.fit()\n",
    "print( logit_result.summary() )"
   ]
  },
  {
   "cell_type": "code",
   "execution_count": null,
   "id": "robust-meaning",
   "metadata": {},
   "outputs": [],
   "source": []
  }
 ],
 "metadata": {
  "kernelspec": {
   "display_name": "ana0",
   "language": "python",
   "name": "ana0"
  },
  "language_info": {
   "codemirror_mode": {
    "name": "ipython",
    "version": 3
   },
   "file_extension": ".py",
   "mimetype": "text/x-python",
   "name": "python",
   "nbconvert_exporter": "python",
   "pygments_lexer": "ipython3",
   "version": "3.7.9"
  }
 },
 "nbformat": 4,
 "nbformat_minor": 5
}
