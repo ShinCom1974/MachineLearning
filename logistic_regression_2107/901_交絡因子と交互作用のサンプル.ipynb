{
 "cells": [
  {
   "cell_type": "markdown",
   "id": "proprietary-chase",
   "metadata": {},
   "source": [
    "# 手で作ったサンプルデータを用いて、交絡因子と交互作用項をロジスティック回帰モデルで検討する"
   ]
  },
  {
   "cell_type": "code",
   "execution_count": 1,
   "id": "dated-demographic",
   "metadata": {},
   "outputs": [],
   "source": [
    "import pandas as pd\n",
    "import statsmodels.api as sm\n",
    "import numpy as np\n",
    "import matplotlib.pyplot as plt"
   ]
  },
  {
   "cell_type": "code",
   "execution_count": 2,
   "id": "european-basics",
   "metadata": {},
   "outputs": [],
   "source": [
    "pd.set_option('display.max_rows', 250)\n",
    "pd.set_option('display.max_columns', 100)"
   ]
  },
  {
   "cell_type": "markdown",
   "id": "caroline-protein",
   "metadata": {},
   "source": [
    "# データ読み込み"
   ]
  },
  {
   "cell_type": "code",
   "execution_count": 3,
   "id": "generous-tension",
   "metadata": {},
   "outputs": [
    {
     "data": {
      "text/html": [
       "<div>\n",
       "<style scoped>\n",
       "    .dataframe tbody tr th:only-of-type {\n",
       "        vertical-align: middle;\n",
       "    }\n",
       "\n",
       "    .dataframe tbody tr th {\n",
       "        vertical-align: top;\n",
       "    }\n",
       "\n",
       "    .dataframe thead th {\n",
       "        text-align: right;\n",
       "    }\n",
       "</style>\n",
       "<table border=\"1\" class=\"dataframe\">\n",
       "  <thead>\n",
       "    <tr style=\"text-align: right;\">\n",
       "      <th></th>\n",
       "      <th>id</th>\n",
       "      <th>alcohol</th>\n",
       "      <th>smoking</th>\n",
       "      <th>cancer</th>\n",
       "      <th>DNA</th>\n",
       "      <th>intercept</th>\n",
       "    </tr>\n",
       "  </thead>\n",
       "  <tbody>\n",
       "    <tr>\n",
       "      <th>0</th>\n",
       "      <td>1</td>\n",
       "      <td>1</td>\n",
       "      <td>1</td>\n",
       "      <td>1</td>\n",
       "      <td>1</td>\n",
       "      <td>1</td>\n",
       "    </tr>\n",
       "    <tr>\n",
       "      <th>1</th>\n",
       "      <td>2</td>\n",
       "      <td>1</td>\n",
       "      <td>1</td>\n",
       "      <td>1</td>\n",
       "      <td>1</td>\n",
       "      <td>1</td>\n",
       "    </tr>\n",
       "    <tr>\n",
       "      <th>2</th>\n",
       "      <td>3</td>\n",
       "      <td>1</td>\n",
       "      <td>1</td>\n",
       "      <td>1</td>\n",
       "      <td>1</td>\n",
       "      <td>1</td>\n",
       "    </tr>\n",
       "    <tr>\n",
       "      <th>3</th>\n",
       "      <td>4</td>\n",
       "      <td>1</td>\n",
       "      <td>1</td>\n",
       "      <td>1</td>\n",
       "      <td>1</td>\n",
       "      <td>1</td>\n",
       "    </tr>\n",
       "    <tr>\n",
       "      <th>4</th>\n",
       "      <td>5</td>\n",
       "      <td>1</td>\n",
       "      <td>1</td>\n",
       "      <td>1</td>\n",
       "      <td>1</td>\n",
       "      <td>1</td>\n",
       "    </tr>\n",
       "  </tbody>\n",
       "</table>\n",
       "</div>"
      ],
      "text/plain": [
       "   id  alcohol  smoking  cancer  DNA  intercept\n",
       "0   1        1        1       1    1          1\n",
       "1   2        1        1       1    1          1\n",
       "2   3        1        1       1    1          1\n",
       "3   4        1        1       1    1          1\n",
       "4   5        1        1       1    1          1"
      ]
     },
     "execution_count": 3,
     "metadata": {},
     "output_type": "execute_result"
    }
   ],
   "source": [
    "#サンプルデータの読み込み\n",
    "df_conf = pd.read_csv('./data/sample_data_confounding.csv')\n",
    "\n",
    "#切片用のカラムを追加\n",
    "df_conf[\"intercept\"] = 1\n",
    "df_conf.head()"
   ]
  },
  {
   "cell_type": "code",
   "execution_count": 4,
   "id": "cubic-winning",
   "metadata": {},
   "outputs": [
    {
     "data": {
      "text/html": [
       "<div>\n",
       "<style scoped>\n",
       "    .dataframe tbody tr th:only-of-type {\n",
       "        vertical-align: middle;\n",
       "    }\n",
       "\n",
       "    .dataframe tbody tr th {\n",
       "        vertical-align: top;\n",
       "    }\n",
       "\n",
       "    .dataframe thead th {\n",
       "        text-align: right;\n",
       "    }\n",
       "</style>\n",
       "<table border=\"1\" class=\"dataframe\">\n",
       "  <thead>\n",
       "    <tr style=\"text-align: right;\">\n",
       "      <th>cancer</th>\n",
       "      <th>0</th>\n",
       "      <th>1</th>\n",
       "    </tr>\n",
       "    <tr>\n",
       "      <th>alcohol</th>\n",
       "      <th></th>\n",
       "      <th></th>\n",
       "    </tr>\n",
       "  </thead>\n",
       "  <tbody>\n",
       "    <tr>\n",
       "      <th>0</th>\n",
       "      <td>244</td>\n",
       "      <td>52</td>\n",
       "    </tr>\n",
       "    <tr>\n",
       "      <th>1</th>\n",
       "      <td>239</td>\n",
       "      <td>102</td>\n",
       "    </tr>\n",
       "  </tbody>\n",
       "</table>\n",
       "</div>"
      ],
      "text/plain": [
       "cancer     0    1\n",
       "alcohol          \n",
       "0        244   52\n",
       "1        239  102"
      ]
     },
     "execution_count": 4,
     "metadata": {},
     "output_type": "execute_result"
    }
   ],
   "source": [
    "pd.crosstab(df_conf['alcohol'], df_conf['cancer'])"
   ]
  },
  {
   "cell_type": "markdown",
   "id": "ranging-knitting",
   "metadata": {},
   "source": []
  },
  {
   "cell_type": "markdown",
   "id": "forty-money",
   "metadata": {},
   "source": [
    "# 交絡因子"
   ]
  },
  {
   "cell_type": "markdown",
   "id": "accessible-grade",
   "metadata": {},
   "source": [
    "## 単変数ロジスティック回帰（粗オッズ）"
   ]
  },
  {
   "cell_type": "code",
   "execution_count": 5,
   "id": "popular-article",
   "metadata": {},
   "outputs": [],
   "source": [
    "X = df_conf[ ['intercept', 'alcohol'] ]\n",
    "y = df_conf['cancer']"
   ]
  },
  {
   "cell_type": "code",
   "execution_count": 6,
   "id": "wanted-frontier",
   "metadata": {},
   "outputs": [
    {
     "name": "stdout",
     "output_type": "stream",
     "text": [
      "                 Generalized Linear Model Regression Results                  \n",
      "==============================================================================\n",
      "Dep. Variable:                 cancer   No. Observations:                  637\n",
      "Model:                            GLM   Df Residuals:                      635\n",
      "Model Family:                Binomial   Df Model:                            1\n",
      "Link Function:                  logit   Scale:                          1.0000\n",
      "Method:                          IRLS   Log-Likelihood:                -345.62\n",
      "Date:                Tue, 13 Jul 2021   Deviance:                       691.25\n",
      "Time:                        22:43:41   Pearson chi2:                     637.\n",
      "No. Iterations:                     4                                         \n",
      "Covariance Type:            nonrobust                                         \n",
      "==============================================================================\n",
      "                 coef    std err          z      P>|z|      [0.025      0.975]\n",
      "------------------------------------------------------------------------------\n",
      "intercept     -1.5459      0.153    -10.121      0.000      -1.845      -1.247\n",
      "alcohol        0.6944      0.193      3.595      0.000       0.316       1.073\n",
      "==============================================================================\n"
     ]
    }
   ],
   "source": [
    "logit = sm.GLM(y, X, family=sm.families.Binomial())\n",
    "logit_result = logit.fit()\n",
    "print( logit_result.summary() )"
   ]
  },
  {
   "cell_type": "markdown",
   "id": "ordinary-contrary",
   "metadata": {},
   "source": [
    "# ２変数ロジスティック回帰モデル（喫煙有無による調整）"
   ]
  },
  {
   "cell_type": "code",
   "execution_count": 7,
   "id": "acquired-holly",
   "metadata": {},
   "outputs": [],
   "source": [
    "X = df_conf[ ['intercept', 'alcohol', 'smoking'] ]\n",
    "y = df_conf['cancer']"
   ]
  },
  {
   "cell_type": "code",
   "execution_count": 8,
   "id": "dietary-louisville",
   "metadata": {},
   "outputs": [
    {
     "name": "stdout",
     "output_type": "stream",
     "text": [
      "                 Generalized Linear Model Regression Results                  \n",
      "==============================================================================\n",
      "Dep. Variable:                 cancer   No. Observations:                  637\n",
      "Model:                            GLM   Df Residuals:                      634\n",
      "Model Family:                Binomial   Df Model:                            2\n",
      "Link Function:                  logit   Scale:                          1.0000\n",
      "Method:                          IRLS   Log-Likelihood:                -332.22\n",
      "Date:                Tue, 13 Jul 2021   Deviance:                       664.44\n",
      "Time:                        22:43:50   Pearson chi2:                     637.\n",
      "No. Iterations:                     4                                         \n",
      "Covariance Type:            nonrobust                                         \n",
      "==============================================================================\n",
      "                 coef    std err          z      P>|z|      [0.025      0.975]\n",
      "------------------------------------------------------------------------------\n",
      "intercept     -1.8664      0.174    -10.738      0.000      -2.207      -1.526\n",
      "alcohol        0.2524      0.215      1.173      0.241      -0.169       0.674\n",
      "smoking        1.0799      0.214      5.056      0.000       0.661       1.499\n",
      "==============================================================================\n"
     ]
    }
   ],
   "source": [
    "logit = sm.GLM(y, X, family=sm.families.Binomial())\n",
    "logit_result = logit.fit()\n",
    "print( logit_result.summary() )"
   ]
  },
  {
   "cell_type": "markdown",
   "id": "damaged-romance",
   "metadata": {},
   "source": [
    "## 喫煙有無と飲酒　交互作用はなし"
   ]
  },
  {
   "cell_type": "code",
   "execution_count": 9,
   "id": "naked-vault",
   "metadata": {},
   "outputs": [
    {
     "data": {
      "text/html": [
       "<div>\n",
       "<style scoped>\n",
       "    .dataframe tbody tr th:only-of-type {\n",
       "        vertical-align: middle;\n",
       "    }\n",
       "\n",
       "    .dataframe tbody tr th {\n",
       "        vertical-align: top;\n",
       "    }\n",
       "\n",
       "    .dataframe thead th {\n",
       "        text-align: right;\n",
       "    }\n",
       "</style>\n",
       "<table border=\"1\" class=\"dataframe\">\n",
       "  <thead>\n",
       "    <tr style=\"text-align: right;\">\n",
       "      <th>cancer</th>\n",
       "      <th>alcohol</th>\n",
       "      <th>smoking</th>\n",
       "      <th>0</th>\n",
       "      <th>1</th>\n",
       "      <th>log-odd</th>\n",
       "    </tr>\n",
       "  </thead>\n",
       "  <tbody>\n",
       "    <tr>\n",
       "      <th>0</th>\n",
       "      <td>0</td>\n",
       "      <td>0</td>\n",
       "      <td>197</td>\n",
       "      <td>30</td>\n",
       "      <td>-1.882006</td>\n",
       "    </tr>\n",
       "    <tr>\n",
       "      <th>1</th>\n",
       "      <td>0</td>\n",
       "      <td>1</td>\n",
       "      <td>47</td>\n",
       "      <td>22</td>\n",
       "      <td>-0.759105</td>\n",
       "    </tr>\n",
       "    <tr>\n",
       "      <th>2</th>\n",
       "      <td>1</td>\n",
       "      <td>0</td>\n",
       "      <td>98</td>\n",
       "      <td>20</td>\n",
       "      <td>-1.589235</td>\n",
       "    </tr>\n",
       "    <tr>\n",
       "      <th>3</th>\n",
       "      <td>1</td>\n",
       "      <td>1</td>\n",
       "      <td>141</td>\n",
       "      <td>82</td>\n",
       "      <td>-0.542041</td>\n",
       "    </tr>\n",
       "  </tbody>\n",
       "</table>\n",
       "</div>"
      ],
      "text/plain": [
       "cancer  alcohol  smoking    0   1   log-odd\n",
       "0             0        0  197  30 -1.882006\n",
       "1             0        1   47  22 -0.759105\n",
       "2             1        0   98  20 -1.589235\n",
       "3             1        1  141  82 -0.542041"
      ]
     },
     "execution_count": 9,
     "metadata": {},
     "output_type": "execute_result"
    }
   ],
   "source": [
    "df_pivot = pd.pivot_table(data=df_conf, index=[\"alcohol\", \"smoking\"], columns=\"cancer\", values=\"id\", aggfunc=\"count\").reset_index()\n",
    "df_pivot[\"log-odd\"] = np.log( df_pivot[1]/df_pivot[0] )\n",
    "df_pivot"
   ]
  },
  {
   "cell_type": "code",
   "execution_count": 10,
   "id": "logical-cooperative",
   "metadata": {},
   "outputs": [
    {
     "data": {
      "text/plain": [
       "<matplotlib.legend.Legend at 0x1333eb11308>"
      ]
     },
     "execution_count": 10,
     "metadata": {},
     "output_type": "execute_result"
    },
    {
     "data": {
      "image/png": "[encoded data removed]",
      "text/plain": [
       "<Figure size 432x288 with 1 Axes>"
      ]
     },
     "metadata": {
      "needs_background": "light"
     },
     "output_type": "display_data"
    }
   ],
   "source": [
    "plt.plot([1,0], [ df_pivot.query(\"(alcohol==1) & (smoking==1)\")[\"log-odd\"], df_pivot.query(\"(alcohol==1) & (smoking==0)\")[\"log-odd\"] ],\\\n",
    "         label=\"飲酒あり\", marker=\"o\")\n",
    "plt.plot([1,0], [ df_pivot.query(\"(alcohol==0) & (smoking==1)\")[\"log-odd\"], df_pivot.query(\"(alcohol==0) & (smoking==0)\")[\"log-odd\"] ],\\\n",
    "        label=\"飲酒なし\", marker=\"o\")\n",
    "plt.ylabel(\"対数オッズ\")\n",
    "plt.xlabel(\"喫煙有無\")\n",
    "plt.xticks([0,1])\n",
    "plt.xlim(-0.2,1.2)\n",
    "plt.legend()"
   ]
  },
  {
   "cell_type": "markdown",
   "id": "realistic-contamination",
   "metadata": {},
   "source": [
    "# 交互作用項を入れたモデルも一応作ってみる"
   ]
  },
  {
   "cell_type": "code",
   "execution_count": 11,
   "id": "bibliographic-evolution",
   "metadata": {},
   "outputs": [],
   "source": [
    "df_conf['alcohol*smoking'] = df_conf['alcohol'] * df_conf['smoking']"
   ]
  },
  {
   "cell_type": "code",
   "execution_count": 12,
   "id": "collect-leeds",
   "metadata": {},
   "outputs": [],
   "source": [
    "X = df_conf[ ['intercept', 'alcohol', 'smoking', 'alcohol*smoking'] ]\n",
    "y = df_conf['cancer']"
   ]
  },
  {
   "cell_type": "code",
   "execution_count": 13,
   "id": "regulation-setting",
   "metadata": {},
   "outputs": [
    {
     "name": "stdout",
     "output_type": "stream",
     "text": [
      "                 Generalized Linear Model Regression Results                  \n",
      "==============================================================================\n",
      "Dep. Variable:                 cancer   No. Observations:                  637\n",
      "Model:                            GLM   Df Residuals:                      633\n",
      "Model Family:                Binomial   Df Model:                            3\n",
      "Link Function:                  logit   Scale:                          1.0000\n",
      "Method:                          IRLS   Log-Likelihood:                -332.20\n",
      "Date:                Tue, 13 Jul 2021   Deviance:                       664.41\n",
      "Time:                        22:44:38   Pearson chi2:                     637.\n",
      "No. Iterations:                     4                                         \n",
      "Covariance Type:            nonrobust                                         \n",
      "===================================================================================\n",
      "                      coef    std err          z      P>|z|      [0.025      0.975]\n",
      "-----------------------------------------------------------------------------------\n",
      "intercept          -1.8820      0.196     -9.603      0.000      -2.266      -1.498\n",
      "alcohol             0.2928      0.314      0.932      0.351      -0.323       0.908\n",
      "smoking             1.1229      0.324      3.463      0.001       0.487       1.758\n",
      "alcohol*smoking    -0.0757      0.430     -0.176      0.860      -0.918       0.766\n",
      "===================================================================================\n"
     ]
    }
   ],
   "source": [
    "logit = sm.GLM(y, X, family=sm.families.Binomial())\n",
    "logit_result = logit.fit()\n",
    "print( logit_result.summary() )"
   ]
  },
  {
   "cell_type": "code",
   "execution_count": null,
   "id": "charged-remove",
   "metadata": {},
   "outputs": [],
   "source": []
  },
  {
   "cell_type": "code",
   "execution_count": null,
   "id": "whole-flower",
   "metadata": {},
   "outputs": [],
   "source": []
  },
  {
   "cell_type": "code",
   "execution_count": null,
   "id": "canadian-wholesale",
   "metadata": {},
   "outputs": [],
   "source": []
  },
  {
   "cell_type": "markdown",
   "id": "extreme-offering",
   "metadata": {},
   "source": [
    "# 遺伝子との交互作用"
   ]
  },
  {
   "cell_type": "markdown",
   "id": "dimensional-number",
   "metadata": {},
   "source": [
    "## 交互作用の確認"
   ]
  },
  {
   "cell_type": "code",
   "execution_count": 14,
   "id": "extended-chinese",
   "metadata": {},
   "outputs": [
    {
     "data": {
      "text/html": [
       "<div>\n",
       "<style scoped>\n",
       "    .dataframe tbody tr th:only-of-type {\n",
       "        vertical-align: middle;\n",
       "    }\n",
       "\n",
       "    .dataframe tbody tr th {\n",
       "        vertical-align: top;\n",
       "    }\n",
       "\n",
       "    .dataframe thead th {\n",
       "        text-align: right;\n",
       "    }\n",
       "</style>\n",
       "<table border=\"1\" class=\"dataframe\">\n",
       "  <thead>\n",
       "    <tr style=\"text-align: right;\">\n",
       "      <th>cancer</th>\n",
       "      <th>smoking</th>\n",
       "      <th>DNA</th>\n",
       "      <th>0</th>\n",
       "      <th>1</th>\n",
       "      <th>log-odd</th>\n",
       "    </tr>\n",
       "  </thead>\n",
       "  <tbody>\n",
       "    <tr>\n",
       "      <th>0</th>\n",
       "      <td>0</td>\n",
       "      <td>0</td>\n",
       "      <td>140</td>\n",
       "      <td>15</td>\n",
       "      <td>-2.233592</td>\n",
       "    </tr>\n",
       "    <tr>\n",
       "      <th>1</th>\n",
       "      <td>0</td>\n",
       "      <td>1</td>\n",
       "      <td>155</td>\n",
       "      <td>35</td>\n",
       "      <td>-1.488077</td>\n",
       "    </tr>\n",
       "    <tr>\n",
       "      <th>2</th>\n",
       "      <td>1</td>\n",
       "      <td>0</td>\n",
       "      <td>92</td>\n",
       "      <td>10</td>\n",
       "      <td>-2.219203</td>\n",
       "    </tr>\n",
       "    <tr>\n",
       "      <th>3</th>\n",
       "      <td>1</td>\n",
       "      <td>1</td>\n",
       "      <td>96</td>\n",
       "      <td>94</td>\n",
       "      <td>-0.021053</td>\n",
       "    </tr>\n",
       "  </tbody>\n",
       "</table>\n",
       "</div>"
      ],
      "text/plain": [
       "cancer  smoking  DNA    0   1   log-odd\n",
       "0             0    0  140  15 -2.233592\n",
       "1             0    1  155  35 -1.488077\n",
       "2             1    0   92  10 -2.219203\n",
       "3             1    1   96  94 -0.021053"
      ]
     },
     "execution_count": 14,
     "metadata": {},
     "output_type": "execute_result"
    }
   ],
   "source": [
    "df_pivot2 = pd.pivot_table(data=df_conf, index=[\"smoking\", \"DNA\"], columns=\"cancer\", values=\"id\", aggfunc=\"count\").reset_index()\n",
    "df_pivot2[\"log-odd\"] = np.log( df_pivot2[1]/df_pivot2[0] )\n",
    "df_pivot2"
   ]
  },
  {
   "cell_type": "code",
   "execution_count": 15,
   "id": "seventh-stuff",
   "metadata": {},
   "outputs": [
    {
     "data": {
      "text/plain": [
       "<matplotlib.legend.Legend at 0x1333ec36a48>"
      ]
     },
     "execution_count": 15,
     "metadata": {},
     "output_type": "execute_result"
    },
    {
     "data": {
      "image/png": "[encoded data removed]",
      "text/plain": [
       "<Figure size 432x288 with 1 Axes>"
      ]
     },
     "metadata": {
      "needs_background": "light"
     },
     "output_type": "display_data"
    }
   ],
   "source": [
    "plt.plot([1,0], [ df_pivot2.query(\"(smoking==1) & (DNA==1)\")[\"log-odd\"], df_pivot2.query(\"(smoking==1) & (DNA==0)\")[\"log-odd\"] ],\\\n",
    "         label=\"喫煙あり\", marker=\"o\")\n",
    "plt.plot([1,0], [ df_pivot2.query(\"(smoking==0) & (DNA==1)\")[\"log-odd\"], df_pivot2.query(\"(smoking==0) & (DNA==0)\")[\"log-odd\"] ],\\\n",
    "        label=\"喫煙なし\", marker=\"o\")\n",
    "plt.ylabel(\"対数オッズ\")\n",
    "plt.xlabel(\"DNA\")\n",
    "plt.xticks([0,1])\n",
    "plt.xlim(-0.2,1.2)\n",
    "plt.legend()"
   ]
  },
  {
   "cell_type": "markdown",
   "id": "offensive-receipt",
   "metadata": {},
   "source": [
    "## 交互作用項を入れたモデル"
   ]
  },
  {
   "cell_type": "code",
   "execution_count": 16,
   "id": "competent-chapel",
   "metadata": {},
   "outputs": [],
   "source": [
    "df_conf['smoking*DNA'] = df_conf['smoking'] * df_conf['DNA']"
   ]
  },
  {
   "cell_type": "code",
   "execution_count": 17,
   "id": "opposed-support",
   "metadata": {},
   "outputs": [],
   "source": [
    "X = df_conf[ ['intercept', 'smoking', 'smoking*DNA'] ]\n",
    "y = df_conf['cancer']"
   ]
  },
  {
   "cell_type": "code",
   "execution_count": 18,
   "id": "wicked-florist",
   "metadata": {},
   "outputs": [
    {
     "name": "stdout",
     "output_type": "stream",
     "text": [
      "                 Generalized Linear Model Regression Results                  \n",
      "==============================================================================\n",
      "Dep. Variable:                 cancer   No. Observations:                  637\n",
      "Model:                            GLM   Df Residuals:                      634\n",
      "Model Family:                Binomial   Df Model:                            2\n",
      "Link Function:                  logit   Scale:                          1.0000\n",
      "Method:                          IRLS   Log-Likelihood:                -307.17\n",
      "Date:                Tue, 13 Jul 2021   Deviance:                       614.34\n",
      "Time:                        22:45:32   Pearson chi2:                     637.\n",
      "No. Iterations:                     5                                         \n",
      "Covariance Type:            nonrobust                                         \n",
      "===============================================================================\n",
      "                  coef    std err          z      P>|z|      [0.025      0.975]\n",
      "-------------------------------------------------------------------------------\n",
      "intercept      -1.7750      0.153    -11.606      0.000      -2.075      -1.475\n",
      "smoking        -0.4443      0.366     -1.212      0.225      -1.162       0.274\n",
      "smoking*DNA     2.1982      0.363      6.052      0.000       1.486       2.910\n",
      "===============================================================================\n"
     ]
    }
   ],
   "source": [
    "logit = sm.GLM(y, X, family=sm.families.Binomial())\n",
    "logit_result = logit.fit()\n",
    "print( logit_result.summary() )"
   ]
  },
  {
   "cell_type": "markdown",
   "id": "behavioral-strike",
   "metadata": {},
   "source": [
    "## 比較対象　喫煙有無だけの粗オッズモデル"
   ]
  },
  {
   "cell_type": "code",
   "execution_count": 19,
   "id": "aggressive-dollar",
   "metadata": {},
   "outputs": [],
   "source": [
    "X = df_conf[ ['intercept', 'smoking'] ]\n",
    "y = df_conf['cancer']"
   ]
  },
  {
   "cell_type": "code",
   "execution_count": 20,
   "id": "digital-antique",
   "metadata": {},
   "outputs": [
    {
     "name": "stdout",
     "output_type": "stream",
     "text": [
      "                 Generalized Linear Model Regression Results                  \n",
      "==============================================================================\n",
      "Dep. Variable:                 cancer   No. Observations:                  637\n",
      "Model:                            GLM   Df Residuals:                      635\n",
      "Model Family:                Binomial   Df Model:                            1\n",
      "Link Function:                  logit   Scale:                          1.0000\n",
      "Method:                          IRLS   Log-Likelihood:                -332.91\n",
      "Date:                Tue, 13 Jul 2021   Deviance:                       665.82\n",
      "Time:                        22:46:30   Pearson chi2:                     637.\n",
      "No. Iterations:                     4                                         \n",
      "Covariance Type:            nonrobust                                         \n",
      "==============================================================================\n",
      "                 coef    std err          z      P>|z|      [0.025      0.975]\n",
      "------------------------------------------------------------------------------\n",
      "intercept     -1.7750      0.153    -11.606      0.000      -2.075      -1.475\n",
      "smoking        1.1829      0.196      6.042      0.000       0.799       1.567\n",
      "==============================================================================\n"
     ]
    }
   ],
   "source": [
    "logit = sm.GLM(y, X, family=sm.families.Binomial())\n",
    "logit_result = logit.fit()\n",
    "print( logit_result.summary() )"
   ]
  },
  {
   "cell_type": "code",
   "execution_count": null,
   "id": "listed-venezuela",
   "metadata": {},
   "outputs": [],
   "source": []
  }
 ],
 "metadata": {
  "kernelspec": {
   "display_name": "ana0",
   "language": "python",
   "name": "ana0"
  },
  "language_info": {
   "codemirror_mode": {
    "name": "ipython",
    "version": 3
   },
   "file_extension": ".py",
   "mimetype": "text/x-python",
   "name": "python",
   "nbconvert_exporter": "python",
   "pygments_lexer": "ipython3",
   "version": "3.7.9"
  }
 },
 "nbformat": 4,
 "nbformat_minor": 5
}
